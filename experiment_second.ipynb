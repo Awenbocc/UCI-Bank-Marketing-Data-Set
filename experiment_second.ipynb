{
 "cells": [
  {
   "cell_type": "code",
   "execution_count": 1,
   "metadata": {},
   "outputs": [],
   "source": [
    "import numpy as np\n",
    "import os\n",
    "import pandas as pd\n",
    "from sklearn.linear_model import LogisticRegression\n",
    "from sklearn.model_selection import train_test_split,KFold\n",
    "import matplotlib.pylab as plt\n",
    "from sklearn.metrics import accuracy_score, confusion_matrix\n",
    "from utils import plot_confusion_matrix\n",
    "from sklearn.preprocessing import MinMaxScaler,StandardScaler\n",
    "from sklearn.svm import SVC\n",
    "from sklearn.ensemble import RandomForestClassifier\n",
    "from sklearn.neighbors import KNeighborsClassifier\n",
    "import matplotlib.pylab as plt\n",
    "from imblearn.over_sampling import SMOTE\n",
    "import sys"
   ]
  },
  {
   "cell_type": "code",
   "execution_count": 2,
   "metadata": {},
   "outputs": [],
   "source": [
    "col_names = [\"age\", \"job\", \"marital\", \"education\", \"default\",\"housing\",\"loan\",\"contact\",\"month\",\"day_of_week\"\n",
    "             ,\"duration\",\"campaign\",\"pdays\",\"previous\",\"poutcome\",\"emp.var.rate\",\"cons.price.idx\",\n",
    "             \"cons.conf.idx\",\"euribor3m\",\"nr.employed\",\"y\"]\n",
    "class_names = [\"yes\", \"no\"]\n",
    "job_to_int={\"admin.\":0,\"blue-collar\":1,\"entrepreneur\":2,\"housemaid\":3,\"management\":4,\"retired\":5,\"self-employed\":6,\n",
    "            \"services\":7,\"student\":8,\"technician\":9,\"unemployed\":10,\"unknown\":\"unknown\"}\n",
    "marital_to_int={\"divorced\":0,\"married\":1,\"single\":2,\"unknown\":\"unknown\"}\n",
    "education_to_int={\"basic.4y\":0,\"basic.6y\":1,\"basic.9y\":2,\"high.school\":3,\"illiterate\":4,\"professional.course\":5,\n",
    "                  \"university.degree\":6,\"unknown\":\"unknown\"}\n",
    "default_to_int={\"no\":0,\"yes\":1,\"unknown\":\"unknown\"}\n",
    "housing_to_int={\"no\":0,\"yes\":1,\"unknown\":\"unknown\"}\n",
    "loan_to_int={\"no\":0,\"yes\":1,\"unknown\":\"unknown\"}\n",
    "contact_to_int={\"cellular\":0,\"telephone\":1}\n",
    "month_to_int={\"jan\":0,\"feb\":1,\"mar\":2,\"apr\":3,\"may\":4,\"jun\":5,\"jul\":6,\n",
    "              \"aug\":7,\"sep\":8,\"oct\":9,\"nov\":10,\"dec\":11}\n",
    "day_to_int={\"mon\":0,\"tue\":1,\"wed\":2,\"thu\":3,\"fri\":4}\n",
    "poutcome_to_int={\"failure\":0,\"nonexistent\":1,\"success\":2}\n",
    "class_to_int = {\"yes\": 0, \"no\": 1.0}"
   ]
  },
  {
   "cell_type": "code",
   "execution_count": 3,
   "metadata": {},
   "outputs": [],
   "source": [
    "data_dir = os.path.abspath(\"./data/\")\n",
    "data_file = os.path.abspath(data_dir + \"/blank.csv\")\n",
    "df = pd.read_csv(data_file,names=col_names,header=0,sep=';')"
   ]
  },
  {
   "cell_type": "code",
   "execution_count": 4,
   "metadata": {},
   "outputs": [
    {
     "name": "stdout",
     "output_type": "stream",
     "text": [
      "   age        job  marital    education  default housing loan    contact  \\\n",
      "0   56  housemaid  married     basic.4y       no      no   no  telephone   \n",
      "1   57   services  married  high.school  unknown      no   no  telephone   \n",
      "2   37   services  married  high.school       no     yes   no  telephone   \n",
      "3   40     admin.  married     basic.6y       no      no   no  telephone   \n",
      "4   56   services  married  high.school       no      no  yes  telephone   \n",
      "\n",
      "  month day_of_week ...  campaign  pdays  previous     poutcome emp.var.rate  \\\n",
      "0   may         mon ...         1    999         0  nonexistent          1.1   \n",
      "1   may         mon ...         1    999         0  nonexistent          1.1   \n",
      "2   may         mon ...         1    999         0  nonexistent          1.1   \n",
      "3   may         mon ...         1    999         0  nonexistent          1.1   \n",
      "4   may         mon ...         1    999         0  nonexistent          1.1   \n",
      "\n",
      "   cons.price.idx  cons.conf.idx  euribor3m  nr.employed   y  \n",
      "0          93.994          -36.4      4.857       5191.0  no  \n",
      "1          93.994          -36.4      4.857       5191.0  no  \n",
      "2          93.994          -36.4      4.857       5191.0  no  \n",
      "3          93.994          -36.4      4.857       5191.0  no  \n",
      "4          93.994          -36.4      4.857       5191.0  no  \n",
      "\n",
      "[5 rows x 21 columns]\n"
     ]
    }
   ],
   "source": [
    "print(df.head())"
   ]
  },
  {
   "cell_type": "code",
   "execution_count": 5,
   "metadata": {},
   "outputs": [
    {
     "name": "stdout",
     "output_type": "stream",
     "text": [
      "列名：\tage     \t , 有\t0    \t个Unknown数据；\n",
      "列名：\tjob     \t , 有\t330  \t个Unknown数据；\n",
      "列名：\tmarital \t , 有\t80   \t个Unknown数据；\n",
      "列名：\teducation\t , 有\t1731 \t个Unknown数据；\n",
      "列名：\tdefault \t , 有\t8597 \t个Unknown数据；\n",
      "列名：\thousing \t , 有\t990  \t个Unknown数据；\n",
      "列名：\tloan    \t , 有\t990  \t个Unknown数据；\n",
      "列名：\tcontact \t , 有\t0    \t个Unknown数据；\n",
      "列名：\tmonth   \t , 有\t0    \t个Unknown数据；\n",
      "列名：\tday_of_week\t , 有\t0    \t个Unknown数据；\n",
      "列名：\tduration\t , 有\t0    \t个Unknown数据；\n",
      "列名：\tcampaign\t , 有\t0    \t个Unknown数据；\n",
      "列名：\tpdays   \t , 有\t0    \t个Unknown数据；\n",
      "列名：\tprevious\t , 有\t0    \t个Unknown数据；\n",
      "列名：\tpoutcome\t , 有\t0    \t个Unknown数据；\n",
      "列名：\temp.var.rate\t , 有\t0    \t个Unknown数据；\n",
      "列名：\tcons.price.idx\t , 有\t0    \t个Unknown数据；\n",
      "列名：\tcons.conf.idx\t , 有\t0    \t个Unknown数据；\n",
      "列名：\teuribor3m\t , 有\t0    \t个Unknown数据；\n",
      "列名：\tnr.employed\t , 有\t0    \t个Unknown数据；\n",
      "列名：\ty       \t , 有\t0    \t个Unknown数据；\n"
     ]
    }
   ],
   "source": [
    "for i in df:\n",
    "    print(\"列名：\\t%-8s\\t , 有\\t%-5d\\t个Unknown数据；\"%(i,list(df[i]).count(\"unknown\")))"
   ]
  },
  {
   "cell_type": "code",
   "execution_count": 6,
   "metadata": {},
   "outputs": [],
   "source": [
    "total=[]\n",
    "\n",
    "for index,row in df.iterrows():\n",
    "    temp = []\n",
    "    temp.append(row['age'])\n",
    "    temp.append(job_to_int[row['job']])\n",
    "    temp.append(marital_to_int[row['marital']])\n",
    "    temp.append(education_to_int[row['education']])\n",
    "    temp.append(default_to_int[row['default']])\n",
    "    temp.append(housing_to_int[row['housing']])\n",
    "    temp.append(loan_to_int[row['loan']])\n",
    "    temp.append(contact_to_int[row['contact']])\n",
    "    temp.append(month_to_int[row['month']])\n",
    "    temp.append(day_to_int[row['day_of_week']])\n",
    "    temp.append(row['duration'])\n",
    "    temp.append(row['campaign'])\n",
    "    temp.append(row['pdays'])\n",
    "    temp.append(row['previous'])\n",
    "    temp.append(poutcome_to_int[row['poutcome']])\n",
    "    temp.append(row['emp.var.rate'])\n",
    "    temp.append(row['cons.price.idx'])\n",
    "    temp.append(row['cons.conf.idx'])\n",
    "    temp.append(row['euribor3m'])\n",
    "    temp.append(row['nr.employed'])\n",
    "    temp.append(class_to_int[row['y']])\n",
    "    total.append(temp)\n"
   ]
  },
  {
   "cell_type": "code",
   "execution_count": 8,
   "metadata": {},
   "outputs": [
    {
     "name": "stdout",
     "output_type": "stream",
     "text": [
      "[['56' '3' '1' ... '4.857' '5191.0' '1.0']\n",
      " ['57' '7' '1' ... '4.857' '5191.0' '1.0']\n",
      " ['37' '7' '1' ... '4.857' '5191.0' '1.0']\n",
      " ...\n",
      " ['56' '5' '1' ... '1.028' '4963.6' '1.0']\n",
      " ['44' '9' '1' ... '1.028' '4963.6' '0']\n",
      " ['74' '5' '1' ... '1.028' '4963.6' '1.0']]\n",
      "41188\n",
      "30488\n",
      "[['56' '3' '1' ... '4.857' '5191.0' '1.0']\n",
      " ['37' '7' '1' ... '4.857' '5191.0' '1.0']\n",
      " ['40' '0' '1' ... '4.857' '5191.0' '1.0']\n",
      " ...\n",
      " ['56' '5' '1' ... '1.028' '4963.6' '1.0']\n",
      " ['44' '9' '1' ... '1.028' '4963.6' '0']\n",
      " ['74' '5' '1' ... '1.028' '4963.6' '1.0']]\n"
     ]
    }
   ],
   "source": [
    "total=np.array(total)\n",
    "print (total)\n",
    "print (total.shape[0])\n",
    "# np.delete(total,41187,0)\n",
    "number=0\n",
    "delete=[]\n",
    "for i in range(total.shape[0]):\n",
    "    if 'unknown' in total[i]:\n",
    "        delete.append(i)\n",
    "# total=np.delete(total,i,0)\n",
    "#     if 'unknown' in total[i]:\n",
    "#         number+=1\n",
    "#         np.delete(total[i],i,0)\n",
    "total=np.delete(total,delete,0)\n",
    "print (total.shape[0])    \n",
    "print (total)"
   ]
  },
  {
   "cell_type": "code",
   "execution_count": 9,
   "metadata": {},
   "outputs": [
    {
     "name": "stdout",
     "output_type": "stream",
     "text": [
      "    age  job  marital  education  default  housing  loan  contact  month  \\\n",
      "0  56.0  3.0      1.0        0.0      0.0      0.0   0.0      1.0    4.0   \n",
      "1  37.0  7.0      1.0        3.0      0.0      1.0   0.0      1.0    4.0   \n",
      "2  40.0  0.0      1.0        1.0      0.0      0.0   0.0      1.0    4.0   \n",
      "3  56.0  7.0      1.0        3.0      0.0      0.0   1.0      1.0    4.0   \n",
      "4  59.0  0.0      1.0        5.0      0.0      0.0   0.0      1.0    4.0   \n",
      "\n",
      "   day_of_week ...   campaign  pdays  previous  poutcome  emp.var.rate  \\\n",
      "0          0.0 ...        1.0  999.0       0.0       1.0           1.1   \n",
      "1          0.0 ...        1.0  999.0       0.0       1.0           1.1   \n",
      "2          0.0 ...        1.0  999.0       0.0       1.0           1.1   \n",
      "3          0.0 ...        1.0  999.0       0.0       1.0           1.1   \n",
      "4          0.0 ...        1.0  999.0       0.0       1.0           1.1   \n",
      "\n",
      "   cons.price.idx  cons.conf.idx  euribor3m  nr.employed    y  \n",
      "0          93.994          -36.4      4.857       5191.0  1.0  \n",
      "1          93.994          -36.4      4.857       5191.0  1.0  \n",
      "2          93.994          -36.4      4.857       5191.0  1.0  \n",
      "3          93.994          -36.4      4.857       5191.0  1.0  \n",
      "4          93.994          -36.4      4.857       5191.0  1.0  \n",
      "\n",
      "[5 rows x 21 columns]\n"
     ]
    }
   ],
   "source": [
    "total=total.astype(np.float64)\n",
    "new_df=pd.DataFrame(total)\n",
    "new_df.columns=col_names\n",
    "print (new_df.head())"
   ]
  },
  {
   "cell_type": "code",
   "execution_count": 10,
   "metadata": {},
   "outputs": [
    {
     "name": "stdout",
     "output_type": "stream",
     "text": [
      "age              -0.048727\n",
      "job              -0.020540\n",
      "marital          -0.037563\n",
      "education        -0.040804\n",
      "default           0.003776\n",
      "housing          -0.010071\n",
      "loan              0.005026\n",
      "contact           0.143859\n",
      "month            -0.026180\n",
      "day_of_week      -0.007870\n",
      "duration         -0.393530\n",
      "campaign          0.069206\n",
      "pdays             0.327509\n",
      "previous         -0.228003\n",
      "poutcome         -0.143632\n",
      "emp.var.rate      0.305365\n",
      "cons.price.idx    0.128752\n",
      "cons.conf.idx    -0.061638\n",
      "euribor3m         0.315869\n",
      "nr.employed       0.364230\n",
      "y                 1.000000\n",
      "Name: y, dtype: float64\n"
     ]
    }
   ],
   "source": [
    "corr=new_df.corr()\n",
    "print (corr.iloc[20,:])"
   ]
  },
  {
   "cell_type": "code",
   "execution_count": 13,
   "metadata": {},
   "outputs": [
    {
     "name": "stdout",
     "output_type": "stream",
     "text": [
      "3859\n",
      "26629\n"
     ]
    },
    {
     "data": {
      "image/png": "[encoded data removed]",
      "text/plain": [
       "<Figure size 504x504 with 1 Axes>"
      ]
     },
     "metadata": {
      "needs_background": "light"
     },
     "output_type": "display_data"
    }
   ],
   "source": [
    "len_yes=len(new_df[new_df['y']==1])\n",
    "len_no=len(new_df[new_df['y']==0])\n",
    "groups = new_df.groupby('y')\n",
    "fig, axes = plt.subplots(1, 1, figsize=(7, 7))\n",
    "\n",
    "for name, group in groups:\n",
    "    print (group['y'].size)\n",
    "    axes.scatter(group['duration'].values,group['nr.employed'], marker='o', label=name)\n",
    "\n",
    "axes.legend()\n",
    "plt.show()\n",
    "\n"
   ]
  },
  {
   "cell_type": "code",
   "execution_count": 15,
   "metadata": {},
   "outputs": [
    {
     "name": "stdout",
     "output_type": "stream",
     "text": [
      "26629 26629\n",
      "26629 3859\n"
     ]
    },
    {
     "name": "stderr",
     "output_type": "stream",
     "text": [
      "e:\\python3.7.1\\lib\\site-packages\\ipykernel_launcher.py:5: FutureWarning: Using a non-tuple sequence for multidimensional indexing is deprecated; use `arr[tuple(seq)]` instead of `arr[seq]`. In the future this will be interpreted as an array index, `arr[np.array(seq)]`, which will result either in an error or a different result.\n",
      "  \"\"\"\n",
      "e:\\python3.7.1\\lib\\site-packages\\ipykernel_launcher.py:6: FutureWarning: Using a non-tuple sequence for multidimensional indexing is deprecated; use `arr[tuple(seq)]` instead of `arr[seq]`. In the future this will be interpreted as an array index, `arr[np.array(seq)]`, which will result either in an error or a different result.\n",
      "  \n",
      "e:\\python3.7.1\\lib\\site-packages\\matplotlib\\figure.py:98: MatplotlibDeprecationWarning: \n",
      "Adding an axes using the same arguments as a previous axes currently reuses the earlier instance.  In a future version, a new instance will always be created and returned.  Meanwhile, this warning can be suppressed, and the future behavior ensured, by passing a unique label to each axes instance.\n",
      "  \"Adding an axes using the same arguments as a previous axes \"\n"
     ]
    },
    {
     "data": {
      "image/png": "[encoded data removed]",
      "text/plain": [
       "<Figure size 432x288 with 1 Axes>"
      ]
     },
     "metadata": {
      "needs_background": "light"
     },
     "output_type": "display_data"
    }
   ],
   "source": [
    "X=total[:,0:20]\n",
    "y = total[:,20]\n",
    "more_sample = SMOTE(random_state=21)\n",
    "X, y = more_sample.fit_sample(X, y)\n",
    "len_new_yes=len(y[[y==1]])\n",
    "len_new_no=len(y[[y==0]])\n",
    "print (len_new_yes,len_new_no)\n",
    "print (len_yes,len_no)\n",
    "\n",
    "plt.xlabel('Class for y')\n",
    "plt.ylabel('Number')\n",
    "plt.title('The statistics of y  dataset')\n",
    "x_new=[0.01,1.01]\n",
    "x_old=[-0.01,0.99]\n",
    "old=[len_no,len_yes]\n",
    "new=[len_new_no,len_new_yes]\n",
    "plt.subplot(1,1,1)\n",
    "plt.ylim=(0, 10)\n",
    "plt.bar(x_new, new, facecolor='red', width=0.01, label = 'new')\n",
    "plt.bar(x_old, old, facecolor='blue', width=0.01, label = 'old')\n",
    "plt.legend()\n",
    "\n",
    "plt.show()"
   ]
  },
  {
   "cell_type": "code",
   "execution_count": 20,
   "metadata": {},
   "outputs": [
    {
     "name": "stdout",
     "output_type": "stream",
     "text": [
      "[[ 261.         5191.        ]\n",
      " [ 226.         5191.        ]\n",
      " [ 151.         5191.        ]\n",
      " ...\n",
      " [ 163.15266367 5076.2       ]\n",
      " [ 577.12995761 5076.2       ]\n",
      " [ 638.43353244 5228.1       ]]\n",
      "[[0.3        0.85973535]\n",
      " [0.7        0.85973535]\n",
      " [0.         0.85973535]\n",
      " ...\n",
      " [0.9        0.42570888]\n",
      " [0.81299576 0.42570888]\n",
      " [0.37109784 1.        ]]\n"
     ]
    }
   ],
   "source": [
    "print X[:,[10,19]]\n",
    "scaler = MinMaxScaler( )\n",
    "scaler.fit(X[:,1].reshape(-1,1))\n",
    "X[:,1]=scaler.transform(X[:,1].reshape(-1,1)).reshape(1,-1)\n",
    "scal = MinMaxScaler( )\n",
    "scal.fit(X[:,19].reshape(-1,1))\n",
    "X[:,19]=scal.transform(X[:,19].reshape(-1,1)).reshape(1,-1)\n",
    "print X[:,[1,19]]\n",
    "\n",
    "X = X[:,[0,1,2,3,5,7,8,10,11,12,13,14,15,16,17,18,19]]"
   ]
  },
  {
   "cell_type": "code",
   "execution_count": 21,
   "metadata": {},
   "outputs": [],
   "source": [
    "def draw_acc(x_plot,y_plot):\n",
    "    fig, ax = plt.subplots()\n",
    "    ax.plot(x_plot, y_plot, 'o')\n",
    "    plt.show()"
   ]
  },
  {
   "cell_type": "code",
   "execution_count": 26,
   "metadata": {},
   "outputs": [
    {
     "data": {
      "image/png": "[encoded data removed]",
      "text/plain": [
       "<matplotlib.figure.Figure at 0x115929910>"
      ]
     },
     "metadata": {},
     "output_type": "display_data"
    }
   ],
   "source": [
    "X_train, X_test, y_train, y_test = train_test_split(X, y, test_size=0.25, random_state=42)\n",
    "x_plot=[]\n",
    "y_plot=[]\n",
    "for step in range(1, 30):\n",
    "    logistic_regression=LogisticRegression(C=step/100., solver='lbfgs', multi_class='multinomial')\n",
    "    logistic_regression.fit(X_train, y_train)\n",
    "    pred=logistic_regression.predict(X_test)\n",
    "    acc=accuracy_score(y_test, pred)\n",
    "    x_plot.append(step)\n",
    "    y_plot.append(acc)\n",
    "\n",
    "draw_acc(x_plot=x_plot,y_plot=y_plot)"
   ]
  },
  {
   "cell_type": "code",
   "execution_count": 25,
   "metadata": {},
   "outputs": [
    {
     "name": "stdout",
     "output_type": "stream",
     "text": [
      "final result : 0.844026 \n"
     ]
    }
   ],
   "source": [
    "model=[]\n",
    "res=[]\n",
    "for i in range(0, 15):\n",
    "    X_train, X_test, y_train, y_test = train_test_split(X, y, test_size=0.25, random_state=i)\n",
    "    logistic_regression=LogisticRegression(C=0.26, solver='lbfgs', multi_class='multinomial')\n",
    "    logistic_regression.fit(X_train, y_train)\n",
    "    pred=logistic_regression.predict(X_test)\n",
    "    acc=accuracy_score(y_test, pred)\n",
    "    model.append(logistic_regression)\n",
    "    res.append(acc)\n",
    "    \n",
    "\n",
    "avg_acc=sum(res)/15.\n",
    "print ('final result : %f ' %avg_acc)"
   ]
  },
  {
   "cell_type": "code",
   "execution_count": 27,
   "metadata": {},
   "outputs": [
    {
     "name": "stdout",
     "output_type": "stream",
     "text": [
      "Confusion matrix, without normalization\n",
      "[[5575 1073]\n",
      " [ 955 5712]]\n"
     ]
    },
    {
     "data": {
      "image/png": "[encoded data removed]",
      "text/plain": [
       "<matplotlib.figure.Figure at 0x119644550>"
      ]
     },
     "metadata": {},
     "output_type": "display_data"
    }
   ],
   "source": [
    "int_to_class = {0: \"yes\", 1: \"no\"}\n",
    "cnf_matrix = confusion_matrix([int_to_class[c] for c in y_test], [int_to_class[c] for c in pred])\n",
    "\n",
    "# Plot the confusion matrix\n",
    "plt.figure()\n",
    "plot_confusion_matrix(cnf_matrix, classes=class_names,\n",
    "                      title='Confusion matrix, with normalization')\n",
    "plt.show()"
   ]
  },
  {
   "cell_type": "code",
   "execution_count": 28,
   "metadata": {},
   "outputs": [
    {
     "data": {
      "image/png": "[encoded data removed]",
      "text/plain": [
       "<matplotlib.figure.Figure at 0x11a4ac7d0>"
      ]
     },
     "metadata": {},
     "output_type": "display_data"
    }
   ],
   "source": [
    "X_train, X_test, y_train, y_test = train_test_split(X, y, test_size=0.25, random_state=42)\n",
    "x_plot=[]\n",
    "y_plot=[]\n",
    "for step in range(1, 50):\n",
    "    rf_model=RandomForestClassifier(n_estimators=step)\n",
    "    rf_model.fit(X_train, y_train)\n",
    "    pred=rf_model.predict(X_test)\n",
    "    acc=accuracy_score(y_test, pred)\n",
    "    x_plot.append(step)\n",
    "    y_plot.append(acc)\n",
    "draw_acc(x_plot=x_plot,y_plot=y_plot)"
   ]
  },
  {
   "cell_type": "code",
   "execution_count": 29,
   "metadata": {},
   "outputs": [
    {
     "name": "stdout",
     "output_type": "stream",
     "text": [
      "final result : 0.947898 \n"
     ]
    }
   ],
   "source": [
    "model=[]\n",
    "res=[]\n",
    "for step in range(0, 15):\n",
    "    X_train, X_test, y_train, y_test = train_test_split(X, y, test_size=0.25, random_state=step) #random select\n",
    "    rf_model=RandomForestClassifier(n_estimators=49)\n",
    "    rf_model.fit(X_train, y_train)\n",
    "    pred=rf_model.predict(X_test)\n",
    "    acc=accuracy_score(y_test, pred)\n",
    "    model.append(rf_model)\n",
    "    res.append(acc)\n",
    "avg_acc=sum(res)/15.\n",
    "print ('final result : %f ' %avg_acc)"
   ]
  },
  {
   "cell_type": "code",
   "execution_count": 30,
   "metadata": {},
   "outputs": [
    {
     "name": "stdout",
     "output_type": "stream",
     "text": [
      "Confusion matrix, without normalization\n",
      "[[6295  391]\n",
      " [ 302 6327]]\n"
     ]
    },
    {
     "data": {
      "image/png": "[encoded data removed]",
      "text/plain": [
       "<matplotlib.figure.Figure at 0x119644190>"
      ]
     },
     "metadata": {},
     "output_type": "display_data"
    }
   ],
   "source": [
    "int_to_class = {0: \"yes\", 1: \"no\"}\n",
    "cnf_matrix = confusion_matrix([int_to_class[c] for c in y_test], [int_to_class[c] for c in pred])\n",
    "\n",
    "# Plot the confusion matrix\n",
    "plt.figure()\n",
    "plot_confusion_matrix(cnf_matrix, classes=class_names,\n",
    "                      title='Confusion matrix, with normalization')\n",
    "plt.show()"
   ]
  },
  {
   "cell_type": "code",
   "execution_count": 31,
   "metadata": {},
   "outputs": [
    {
     "data": {
      "image/png": "[encoded data removed]",
      "text/plain": [
       "<matplotlib.figure.Figure at 0x119ae1fd0>"
      ]
     },
     "metadata": {},
     "output_type": "display_data"
    }
   ],
   "source": [
    "X_train, X_test, y_train, y_test = train_test_split(X, y, test_size=0.25, random_state=21)\n",
    "x_plot=[]\n",
    "y_plot=[]\n",
    "for step in range(1, 30):\n",
    "    knn_model = KNeighborsClassifier(n_neighbors=step)\n",
    "    knn_model.fit(X_train, y_train)\n",
    "    pred=knn_model.predict(X_test)\n",
    "    acc=accuracy_score(y_test, pred)\n",
    "    x_plot.append(step)\n",
    "    y_plot.append(acc)\n",
    "draw_acc(x_plot=x_plot,y_plot=y_plot)\n",
    "\n"
   ]
  },
  {
   "cell_type": "code",
   "execution_count": 32,
   "metadata": {},
   "outputs": [
    {
     "name": "stdout",
     "output_type": "stream",
     "text": [
      "final result : 0.920946 \n"
     ]
    }
   ],
   "source": [
    "model=[]\n",
    "res=[]\n",
    "for i in range(0, 15):\n",
    "    X_train, X_test, y_train, y_test = train_test_split(X, y, test_size=0.25, random_state=i)\n",
    "    knn_model = KNeighborsClassifier(n_neighbors=1)\n",
    "    knn_model.fit(X_train, y_train)\n",
    "    pred=knn_model.predict(X_test)\n",
    "    acc=accuracy_score(y_test, pred)\n",
    "    model.append(knn_model)\n",
    "    res.append(acc)\n",
    "\n",
    "avg_acc=sum(res)/15.\n",
    "print ('final result : %f ' %avg_acc)"
   ]
  },
  {
   "cell_type": "code",
   "execution_count": 33,
   "metadata": {},
   "outputs": [
    {
     "name": "stdout",
     "output_type": "stream",
     "text": [
      "Confusion matrix, without normalization\n",
      "[[5844  842]\n",
      " [ 189 6440]]\n"
     ]
    },
    {
     "data": {
      "image/png": "[encoded data removed]",
      "text/plain": [
       "<matplotlib.figure.Figure at 0x11f84a290>"
      ]
     },
     "metadata": {},
     "output_type": "display_data"
    }
   ],
   "source": [
    "# Evaluate the confusion matrix\n",
    "cnf_matrix = confusion_matrix([int_to_class[c] for c in y_test], [int_to_class[c] for c in pred])\n",
    "\n",
    "# Plot the confusion matrix\n",
    "plt.figure()\n",
    "plot_confusion_matrix(cnf_matrix, classes=class_names,\n",
    "                      title='Confusion matrix, without normalization')\n",
    "plt.show()"
   ]
  }
 ],
 "metadata": {
  "kernelspec": {
   "display_name": "Python 3",
   "language": "python",
   "name": "python3"
  },
  "language_info": {
   "codemirror_mode": {
    "name": "ipython",
    "version": 3
   },
   "file_extension": ".py",
   "mimetype": "text/x-python",
   "name": "python",
   "nbconvert_exporter": "python",
   "pygments_lexer": "ipython3",
   "version": "3.7.1"
  }
 },
 "nbformat": 4,
 "nbformat_minor": 2
}
