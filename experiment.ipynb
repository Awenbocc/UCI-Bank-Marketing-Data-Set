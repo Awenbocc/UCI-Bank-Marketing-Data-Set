{
 "cells": [
  {
   "cell_type": "code",
   "execution_count": 1,
   "metadata": {},
   "outputs": [],
   "source": [
    "import numpy as np\n",
    "import os\n",
    "import pandas as pd\n",
    "from sklearn.linear_model import LogisticRegression\n",
    "from sklearn.model_selection import train_test_split,KFold\n",
    "import matplotlib.pylab as plt\n",
    "from sklearn.metrics import accuracy_score, confusion_matrix\n",
    "from utils import plot_confusion_matrix\n",
    "from sklearn.preprocessing import MinMaxScaler,StandardScaler\n",
    "from sklearn.svm import SVC\n",
    "from sklearn.ensemble import RandomForestClassifier\n",
    "from sklearn.neighbors import KNeighborsClassifier\n",
    "import matplotlib.pylab as plt\n",
    "from imblearn.over_sampling import SMOTE\n",
    "import sys"
   ]
  },
  {
   "cell_type": "markdown",
   "metadata": {},
   "source": [
    "# string to number"
   ]
  },
  {
   "cell_type": "code",
   "execution_count": 2,
   "metadata": {
    "code_folding": []
   },
   "outputs": [],
   "source": [
    "col_names = [\"age\", \"job\", \"marital\", \"education\", \"default\",\"housing\",\"loan\",\"contact\",\"month\",\"day_of_week\"\n",
    "             ,\"duration\",\"campaign\",\"pdays\",\"previous\",\"poutcome\",\"emp.var.rate\",\"cons.price.idx\",\n",
    "             \"cons.conf.idx\",\"euribor3m\",\"nr.employed\",\"y\"]\n",
    "class_names = [\"yes\", \"no\"]\n",
    "job_to_int={\"admin.\":0,\"blue-collar\":1,\"entrepreneur\":2,\"housemaid\":3,\"management\":4,\"retired\":5,\"self-employed\":6,\n",
    "            \"services\":7,\"student\":8,\"technician\":9,\"unemployed\":10,\"unknown\":11}\n",
    "marital_to_int={\"divorced\":0,\"married\":1,\"single\":2,\"unknown\":3}\n",
    "education_to_int={\"basic.4y\":0,\"basic.6y\":1,\"basic.9y\":2,\"high.school\":3,\"illiterate\":4,\"professional.course\":5,\n",
    "                  \"university.degree\":6,\"unknown\":7}\n",
    "default_to_int={\"no\":0,\"yes\":1,\"unknown\":2}\n",
    "housing_to_int={\"no\":0,\"yes\":1,\"unknown\":2}\n",
    "loan_to_int={\"no\":0,\"yes\":1,\"unknown\":2}\n",
    "contact_to_int={\"cellular\":0,\"telephone\":1}\n",
    "month_to_int={\"jan\":0,\"feb\":1,\"mar\":2,\"apr\":3,\"may\":4,\"jun\":5,\"jul\":6,\n",
    "              \"aug\":7,\"sep\":8,\"oct\":9,\"nov\":10,\"dec\":11}\n",
    "day_to_int={\"mon\":0,\"tue\":1,\"wed\":2,\"thu\":3,\"fri\":4}\n",
    "poutcome_to_int={\"failure\":0,\"nonexistent\":1,\"success\":2}\n",
    "class_to_int = {\"yes\": 0, \"no\": 1}"
   ]
  },
  {
   "cell_type": "code",
   "execution_count": 3,
   "metadata": {},
   "outputs": [],
   "source": [
    "data_dir = os.path.abspath(\"./data/\")\n",
    "data_file = os.path.abspath(data_dir + \"/blank.csv\")\n",
    "df = pd.read_csv(data_file,names=col_names,header=0,sep=';')"
   ]
  },
  {
   "cell_type": "code",
   "execution_count": 4,
   "metadata": {},
   "outputs": [
    {
     "name": "stdout",
     "output_type": "stream",
     "text": [
      "   age        job  marital    education  default housing loan    contact  \\\n",
      "0   56  housemaid  married     basic.4y       no      no   no  telephone   \n",
      "1   57   services  married  high.school  unknown      no   no  telephone   \n",
      "2   37   services  married  high.school       no     yes   no  telephone   \n",
      "3   40     admin.  married     basic.6y       no      no   no  telephone   \n",
      "4   56   services  married  high.school       no      no  yes  telephone   \n",
      "\n",
      "  month day_of_week ...  campaign  pdays  previous     poutcome emp.var.rate  \\\n",
      "0   may         mon ...         1    999         0  nonexistent          1.1   \n",
      "1   may         mon ...         1    999         0  nonexistent          1.1   \n",
      "2   may         mon ...         1    999         0  nonexistent          1.1   \n",
      "3   may         mon ...         1    999         0  nonexistent          1.1   \n",
      "4   may         mon ...         1    999         0  nonexistent          1.1   \n",
      "\n",
      "   cons.price.idx  cons.conf.idx  euribor3m  nr.employed   y  \n",
      "0          93.994          -36.4      4.857       5191.0  no  \n",
      "1          93.994          -36.4      4.857       5191.0  no  \n",
      "2          93.994          -36.4      4.857       5191.0  no  \n",
      "3          93.994          -36.4      4.857       5191.0  no  \n",
      "4          93.994          -36.4      4.857       5191.0  no  \n",
      "\n",
      "[5 rows x 21 columns]\n"
     ]
    }
   ],
   "source": [
    "print(df.head())"
   ]
  },
  {
   "cell_type": "code",
   "execution_count": 5,
   "metadata": {},
   "outputs": [
    {
     "name": "stdout",
     "output_type": "stream",
     "text": [
      "列名：\tage     \t , 有\t0    \t个Unknown数据；\n",
      "列名：\tjob     \t , 有\t330  \t个Unknown数据；\n",
      "列名：\tmarital \t , 有\t80   \t个Unknown数据；\n",
      "列名：\teducation\t , 有\t1731 \t个Unknown数据；\n",
      "列名：\tdefault \t , 有\t8597 \t个Unknown数据；\n",
      "列名：\thousing \t , 有\t990  \t个Unknown数据；\n",
      "列名：\tloan    \t , 有\t990  \t个Unknown数据；\n",
      "列名：\tcontact \t , 有\t0    \t个Unknown数据；\n",
      "列名：\tmonth   \t , 有\t0    \t个Unknown数据；\n",
      "列名：\tday_of_week\t , 有\t0    \t个Unknown数据；\n",
      "列名：\tduration\t , 有\t0    \t个Unknown数据；\n",
      "列名：\tcampaign\t , 有\t0    \t个Unknown数据；\n",
      "列名：\tpdays   \t , 有\t0    \t个Unknown数据；\n",
      "列名：\tprevious\t , 有\t0    \t个Unknown数据；\n",
      "列名：\tpoutcome\t , 有\t0    \t个Unknown数据；\n",
      "列名：\temp.var.rate\t , 有\t0    \t个Unknown数据；\n",
      "列名：\tcons.price.idx\t , 有\t0    \t个Unknown数据；\n",
      "列名：\tcons.conf.idx\t , 有\t0    \t个Unknown数据；\n",
      "列名：\teuribor3m\t , 有\t0    \t个Unknown数据；\n",
      "列名：\tnr.employed\t , 有\t0    \t个Unknown数据；\n",
      "列名：\ty       \t , 有\t0    \t个Unknown数据；\n"
     ]
    }
   ],
   "source": [
    "for i in df:\n",
    "    print(\"列名：\\t%-8s\\t , 有\\t%-5d\\t个Unknown数据；\"%(i,list(df[i]).count(\"unknown\")))"
   ]
  },
  {
   "cell_type": "markdown",
   "metadata": {},
   "source": [
    "# create a new dataFrame"
   ]
  },
  {
   "cell_type": "code",
   "execution_count": 6,
   "metadata": {},
   "outputs": [],
   "source": [
    "total=[]\n",
    "\n",
    "for index,row in df.iterrows():\n",
    "    temp = []\n",
    "    temp.append(row['age'])\n",
    "    temp.append(job_to_int[row['job']])\n",
    "    temp.append(marital_to_int[row['marital']])\n",
    "    temp.append(education_to_int[row['education']])\n",
    "    temp.append(default_to_int[row['default']])\n",
    "    temp.append(housing_to_int[row['housing']])\n",
    "    temp.append(loan_to_int[row['loan']])\n",
    "    temp.append(contact_to_int[row['contact']])\n",
    "    temp.append(month_to_int[row['month']])\n",
    "    temp.append(day_to_int[row['day_of_week']])\n",
    "    temp.append(row['duration'])\n",
    "    temp.append(row['campaign'])\n",
    "    temp.append(row['pdays'])\n",
    "    temp.append(row['previous'])\n",
    "    temp.append(poutcome_to_int[row['poutcome']])\n",
    "    temp.append(row['emp.var.rate'])\n",
    "    temp.append(row['cons.price.idx'])\n",
    "    temp.append(row['cons.conf.idx'])\n",
    "    temp.append(row['euribor3m'])\n",
    "    temp.append(row['nr.employed'])\n",
    "    temp.append(class_to_int[row['y']])\n",
    "    total.append(temp)\n"
   ]
  },
  {
   "cell_type": "code",
   "execution_count": 7,
   "metadata": {},
   "outputs": [
    {
     "name": "stdout",
     "output_type": "stream",
     "text": [
      "               age          job       marital     education       default  \\\n",
      "count  41188.00000  41188.00000  41188.000000  41188.000000  41188.000000   \n",
      "mean      40.02406      3.72458      1.172769      3.747184      0.417525   \n",
      "std       10.42125      3.59456      0.608902      2.136482      0.812813   \n",
      "min       17.00000      0.00000      0.000000      0.000000      0.000000   \n",
      "25%       32.00000      0.00000      1.000000      2.000000      0.000000   \n",
      "50%       38.00000      2.00000      1.000000      3.000000      0.000000   \n",
      "75%       47.00000      7.00000      2.000000      6.000000      0.000000   \n",
      "max       98.00000     11.00000      3.000000      7.000000      2.000000   \n",
      "\n",
      "            housing          loan       contact         month   day_of_week  \\\n",
      "count  41188.000000  41188.000000  41188.000000  41188.000000  41188.000000   \n",
      "mean       0.571914      0.199767      0.365252      5.607896      1.979581   \n",
      "std        0.541209      0.456002      0.481507      2.040998      1.411514   \n",
      "min        0.000000      0.000000      0.000000      2.000000      0.000000   \n",
      "25%        0.000000      0.000000      0.000000      4.000000      1.000000   \n",
      "50%        1.000000      0.000000      0.000000      5.000000      2.000000   \n",
      "75%        1.000000      0.000000      1.000000      7.000000      3.000000   \n",
      "max        2.000000      2.000000      1.000000     11.000000      4.000000   \n",
      "\n",
      "           ...           campaign         pdays      previous      poutcome  \\\n",
      "count      ...       41188.000000  41188.000000  41188.000000  41188.000000   \n",
      "mean       ...           2.567593    962.475454      0.172963      0.930101   \n",
      "std        ...           2.770014    186.910907      0.494901      0.362886   \n",
      "min        ...           1.000000      0.000000      0.000000      0.000000   \n",
      "25%        ...           1.000000    999.000000      0.000000      1.000000   \n",
      "50%        ...           2.000000    999.000000      0.000000      1.000000   \n",
      "75%        ...           3.000000    999.000000      0.000000      1.000000   \n",
      "max        ...          56.000000    999.000000      7.000000      2.000000   \n",
      "\n",
      "       emp.var.rate  cons.price.idx  cons.conf.idx     euribor3m  \\\n",
      "count  41188.000000    41188.000000   41188.000000  41188.000000   \n",
      "mean       0.081886       93.575664     -40.502600      3.621291   \n",
      "std        1.570960        0.578840       4.628198      1.734447   \n",
      "min       -3.400000       92.201000     -50.800000      0.634000   \n",
      "25%       -1.800000       93.075000     -42.700000      1.344000   \n",
      "50%        1.100000       93.749000     -41.800000      4.857000   \n",
      "75%        1.400000       93.994000     -36.400000      4.961000   \n",
      "max        1.400000       94.767000     -26.900000      5.045000   \n",
      "\n",
      "        nr.employed             y  \n",
      "count  41188.000000  41188.000000  \n",
      "mean    5167.035911      0.887346  \n",
      "std       72.251528      0.316173  \n",
      "min     4963.600000      0.000000  \n",
      "25%     5099.100000      1.000000  \n",
      "50%     5191.000000      1.000000  \n",
      "75%     5228.100000      1.000000  \n",
      "max     5228.100000      1.000000  \n",
      "\n",
      "[8 rows x 21 columns]\n"
     ]
    }
   ],
   "source": [
    "new_df=pd.DataFrame(total)\n",
    "new_df.columns=col_names\n",
    "print (new_df.describe())"
   ]
  },
  {
   "cell_type": "markdown",
   "metadata": {},
   "source": [
    "# calculate the covariance matrix"
   ]
  },
  {
   "cell_type": "code",
   "execution_count": 8,
   "metadata": {},
   "outputs": [
    {
     "name": "stdout",
     "output_type": "stream",
     "text": [
      "age              -0.030399\n",
      "job              -0.025122\n",
      "marital          -0.046203\n",
      "education        -0.057799\n",
      "default           0.099324\n",
      "housing          -0.009552\n",
      "loan              0.005038\n",
      "contact           0.144773\n",
      "month            -0.037187\n",
      "day_of_week      -0.010051\n",
      "duration         -0.405274\n",
      "campaign          0.066357\n",
      "pdays             0.324914\n",
      "previous         -0.230181\n",
      "poutcome         -0.129789\n",
      "emp.var.rate      0.298334\n",
      "cons.price.idx    0.136211\n",
      "cons.conf.idx    -0.054878\n",
      "euribor3m         0.307771\n",
      "nr.employed       0.354678\n",
      "y                 1.000000\n",
      "Name: y, dtype: float64\n"
     ]
    }
   ],
   "source": [
    "corr=new_df.corr()\n",
    "print (corr.iloc[20,:])\n",
    "total = np.array(total)"
   ]
  },
  {
   "cell_type": "markdown",
   "metadata": {},
   "source": [
    "# the most relevant to y ： duration\\nr.employed\n",
    "## Analytical balance"
   ]
  },
  {
   "cell_type": "code",
   "execution_count": 9,
   "metadata": {},
   "outputs": [
    {
     "name": "stdout",
     "output_type": "stream",
     "text": [
      "4640\n",
      "36548\n"
     ]
    },
    {
     "data": {
      "image/png": "[encoded data removed]",
      "text/plain": [
       "<Figure size 504x504 with 1 Axes>"
      ]
     },
     "metadata": {
      "needs_background": "light"
     },
     "output_type": "display_data"
    }
   ],
   "source": [
    "\n",
    "len_yes=len(new_df[new_df['y']==1])\n",
    "len_no=len(new_df[new_df['y']==0])\n",
    "groups = new_df.groupby('y')\n",
    "fig, axes = plt.subplots(1, 1, figsize=(7, 7))\n",
    "\n",
    "for name, group in groups:\n",
    "    print (group['y'].size)\n",
    "    axes.scatter(group['duration'].values,group['nr.employed'], marker='o', label=name)\n",
    "\n",
    "axes.legend()\n",
    "plt.show()\n"
   ]
  },
  {
   "cell_type": "code",
   "execution_count": 10,
   "metadata": {},
   "outputs": [
    {
     "name": "stdout",
     "output_type": "stream",
     "text": [
      "36548 36548\n",
      "36548 4640\n"
     ]
    },
    {
     "name": "stderr",
     "output_type": "stream",
     "text": [
      "e:\\python3.7.1\\lib\\site-packages\\ipykernel_launcher.py:6: FutureWarning: Using a non-tuple sequence for multidimensional indexing is deprecated; use `arr[tuple(seq)]` instead of `arr[seq]`. In the future this will be interpreted as an array index, `arr[np.array(seq)]`, which will result either in an error or a different result.\n",
      "  \n",
      "e:\\python3.7.1\\lib\\site-packages\\ipykernel_launcher.py:7: FutureWarning: Using a non-tuple sequence for multidimensional indexing is deprecated; use `arr[tuple(seq)]` instead of `arr[seq]`. In the future this will be interpreted as an array index, `arr[np.array(seq)]`, which will result either in an error or a different result.\n",
      "  import sys\n",
      "e:\\python3.7.1\\lib\\site-packages\\matplotlib\\figure.py:98: MatplotlibDeprecationWarning: \n",
      "Adding an axes using the same arguments as a previous axes currently reuses the earlier instance.  In a future version, a new instance will always be created and returned.  Meanwhile, this warning can be suppressed, and the future behavior ensured, by passing a unique label to each axes instance.\n",
      "  \"Adding an axes using the same arguments as a previous axes \"\n"
     ]
    },
    {
     "data": {
      "image/png": "[encoded data removed]",
      "text/plain": [
       "<Figure size 432x288 with 1 Axes>"
      ]
     },
     "metadata": {
      "needs_background": "light"
     },
     "output_type": "display_data"
    }
   ],
   "source": [
    "X=total[:,0:20]\n",
    "y = df['y'].values\n",
    "y = np.array([class_to_int[c] for c in y])\n",
    "more_sample = SMOTE(random_state=21)\n",
    "X, y = more_sample.fit_sample(X, y)\n",
    "len_new_yes=len(y[[y==1]])\n",
    "len_new_no=len(y[[y==0]])\n",
    "print (len_new_yes,len_new_no)\n",
    "print (len_yes,len_no)\n",
    "\n",
    "plt.xlabel('Class for y')\n",
    "plt.ylabel('Number')\n",
    "plt.title('The statistics of y  dataset')\n",
    "x_new=[0.01,1.01]\n",
    "x_old=[-0.01,0.99]\n",
    "old=[len_no,len_yes]\n",
    "new=[len_new_no,len_new_yes]\n",
    "plt.subplot(1,1,1)\n",
    "plt.ylim=(0, 10)\n",
    "plt.bar(x_new, new, facecolor='red', width=0.01, label = 'new')\n",
    "plt.bar(x_old, old, facecolor='blue', width=0.01, label = 'old')\n",
    "plt.legend()\n",
    "\n",
    "plt.show()"
   ]
  },
  {
   "cell_type": "markdown",
   "metadata": {},
   "source": [
    "# Normalized data\n",
    "\n",
    "### 10、19\n",
    "\n",
    "#### delete 5\\6 because of low covariance"
   ]
  },
  {
   "cell_type": "code",
   "execution_count": 11,
   "metadata": {},
   "outputs": [
    {
     "name": "stdout",
     "output_type": "stream",
     "text": [
      "[[ 261.         5191.        ]\n",
      " [ 149.         5191.        ]\n",
      " [ 226.         5191.        ]\n",
      " ...\n",
      " [ 816.44274115 5228.1       ]\n",
      " [ 193.06729218 5017.5       ]\n",
      " [ 175.7696771  5076.2       ]]\n",
      "[[3.         0.85973535]\n",
      " [7.         0.85973535]\n",
      " [7.         0.85973535]\n",
      " ...\n",
      " [2.21370573 1.        ]\n",
      " [0.         0.20378072]\n",
      " [0.2303229  0.42570888]]\n"
     ]
    }
   ],
   "source": [
    "print (X[:,[10,19]])\n",
    "scaler = MinMaxScaler( )\n",
    "scaler.fit(X[:,10].reshape(-1,1))\n",
    "X[:,10]=scaler.transform(X[:,1].reshape(-1,1)).reshape(1,-1)\n",
    "scal = MinMaxScaler( )\n",
    "scal.fit(X[:,19].reshape(-1,1))\n",
    "X[:,19]=scal.transform(X[:,19].reshape(-1,1)).reshape(1,-1)\n",
    "print (X[:,[1,19]])\n",
    "\n",
    "X = X[:,[0,1,2,3,4,7,8,9,10,11,12,13,14,15,16,17,18,19]]"
   ]
  },
  {
   "cell_type": "code",
   "execution_count": 13,
   "metadata": {},
   "outputs": [],
   "source": [
    "def draw_acc(x_plot,y_plot):\n",
    "    fig, ax = plt.subplots()\n",
    "    ax.plot(x_plot, y_plot, 'o')\n",
    "    plt.show()"
   ]
  },
  {
   "cell_type": "markdown",
   "metadata": {},
   "source": [
    "# logistic regression\n",
    "## 25% test     75%train\n",
    "### find the best C  on the same data"
   ]
  },
  {
   "cell_type": "code",
   "execution_count": 14,
   "metadata": {},
   "outputs": [
    {
     "name": "stderr",
     "output_type": "stream",
     "text": [
      "e:\\python3.7.1\\lib\\site-packages\\sklearn\\linear_model\\logistic.py:758: ConvergenceWarning: lbfgs failed to converge. Increase the number of iterations.\n",
      "  \"of iterations.\", ConvergenceWarning)\n",
      "e:\\python3.7.1\\lib\\site-packages\\sklearn\\linear_model\\logistic.py:758: ConvergenceWarning: lbfgs failed to converge. Increase the number of iterations.\n",
      "  \"of iterations.\", ConvergenceWarning)\n",
      "e:\\python3.7.1\\lib\\site-packages\\sklearn\\linear_model\\logistic.py:758: ConvergenceWarning: lbfgs failed to converge. Increase the number of iterations.\n",
      "  \"of iterations.\", ConvergenceWarning)\n",
      "e:\\python3.7.1\\lib\\site-packages\\sklearn\\linear_model\\logistic.py:758: ConvergenceWarning: lbfgs failed to converge. Increase the number of iterations.\n",
      "  \"of iterations.\", ConvergenceWarning)\n",
      "e:\\python3.7.1\\lib\\site-packages\\sklearn\\linear_model\\logistic.py:758: ConvergenceWarning: lbfgs failed to converge. Increase the number of iterations.\n",
      "  \"of iterations.\", ConvergenceWarning)\n",
      "e:\\python3.7.1\\lib\\site-packages\\sklearn\\linear_model\\logistic.py:758: ConvergenceWarning: lbfgs failed to converge. Increase the number of iterations.\n",
      "  \"of iterations.\", ConvergenceWarning)\n",
      "e:\\python3.7.1\\lib\\site-packages\\sklearn\\linear_model\\logistic.py:758: ConvergenceWarning: lbfgs failed to converge. Increase the number of iterations.\n",
      "  \"of iterations.\", ConvergenceWarning)\n",
      "e:\\python3.7.1\\lib\\site-packages\\sklearn\\linear_model\\logistic.py:758: ConvergenceWarning: lbfgs failed to converge. Increase the number of iterations.\n",
      "  \"of iterations.\", ConvergenceWarning)\n",
      "e:\\python3.7.1\\lib\\site-packages\\sklearn\\linear_model\\logistic.py:758: ConvergenceWarning: lbfgs failed to converge. Increase the number of iterations.\n",
      "  \"of iterations.\", ConvergenceWarning)\n",
      "e:\\python3.7.1\\lib\\site-packages\\sklearn\\linear_model\\logistic.py:758: ConvergenceWarning: lbfgs failed to converge. Increase the number of iterations.\n",
      "  \"of iterations.\", ConvergenceWarning)\n",
      "e:\\python3.7.1\\lib\\site-packages\\sklearn\\linear_model\\logistic.py:758: ConvergenceWarning: lbfgs failed to converge. Increase the number of iterations.\n",
      "  \"of iterations.\", ConvergenceWarning)\n",
      "e:\\python3.7.1\\lib\\site-packages\\sklearn\\linear_model\\logistic.py:758: ConvergenceWarning: lbfgs failed to converge. Increase the number of iterations.\n",
      "  \"of iterations.\", ConvergenceWarning)\n",
      "e:\\python3.7.1\\lib\\site-packages\\sklearn\\linear_model\\logistic.py:758: ConvergenceWarning: lbfgs failed to converge. Increase the number of iterations.\n",
      "  \"of iterations.\", ConvergenceWarning)\n",
      "e:\\python3.7.1\\lib\\site-packages\\sklearn\\linear_model\\logistic.py:758: ConvergenceWarning: lbfgs failed to converge. Increase the number of iterations.\n",
      "  \"of iterations.\", ConvergenceWarning)\n",
      "e:\\python3.7.1\\lib\\site-packages\\sklearn\\linear_model\\logistic.py:758: ConvergenceWarning: lbfgs failed to converge. Increase the number of iterations.\n",
      "  \"of iterations.\", ConvergenceWarning)\n",
      "e:\\python3.7.1\\lib\\site-packages\\sklearn\\linear_model\\logistic.py:758: ConvergenceWarning: lbfgs failed to converge. Increase the number of iterations.\n",
      "  \"of iterations.\", ConvergenceWarning)\n",
      "e:\\python3.7.1\\lib\\site-packages\\sklearn\\linear_model\\logistic.py:758: ConvergenceWarning: lbfgs failed to converge. Increase the number of iterations.\n",
      "  \"of iterations.\", ConvergenceWarning)\n",
      "e:\\python3.7.1\\lib\\site-packages\\sklearn\\linear_model\\logistic.py:758: ConvergenceWarning: lbfgs failed to converge. Increase the number of iterations.\n",
      "  \"of iterations.\", ConvergenceWarning)\n",
      "e:\\python3.7.1\\lib\\site-packages\\sklearn\\linear_model\\logistic.py:758: ConvergenceWarning: lbfgs failed to converge. Increase the number of iterations.\n",
      "  \"of iterations.\", ConvergenceWarning)\n",
      "e:\\python3.7.1\\lib\\site-packages\\sklearn\\linear_model\\logistic.py:758: ConvergenceWarning: lbfgs failed to converge. Increase the number of iterations.\n",
      "  \"of iterations.\", ConvergenceWarning)\n",
      "e:\\python3.7.1\\lib\\site-packages\\sklearn\\linear_model\\logistic.py:758: ConvergenceWarning: lbfgs failed to converge. Increase the number of iterations.\n",
      "  \"of iterations.\", ConvergenceWarning)\n",
      "e:\\python3.7.1\\lib\\site-packages\\sklearn\\linear_model\\logistic.py:758: ConvergenceWarning: lbfgs failed to converge. Increase the number of iterations.\n",
      "  \"of iterations.\", ConvergenceWarning)\n",
      "e:\\python3.7.1\\lib\\site-packages\\sklearn\\linear_model\\logistic.py:758: ConvergenceWarning: lbfgs failed to converge. Increase the number of iterations.\n",
      "  \"of iterations.\", ConvergenceWarning)\n",
      "e:\\python3.7.1\\lib\\site-packages\\sklearn\\linear_model\\logistic.py:758: ConvergenceWarning: lbfgs failed to converge. Increase the number of iterations.\n",
      "  \"of iterations.\", ConvergenceWarning)\n",
      "e:\\python3.7.1\\lib\\site-packages\\sklearn\\linear_model\\logistic.py:758: ConvergenceWarning: lbfgs failed to converge. Increase the number of iterations.\n",
      "  \"of iterations.\", ConvergenceWarning)\n",
      "e:\\python3.7.1\\lib\\site-packages\\sklearn\\linear_model\\logistic.py:758: ConvergenceWarning: lbfgs failed to converge. Increase the number of iterations.\n",
      "  \"of iterations.\", ConvergenceWarning)\n",
      "e:\\python3.7.1\\lib\\site-packages\\sklearn\\linear_model\\logistic.py:758: ConvergenceWarning: lbfgs failed to converge. Increase the number of iterations.\n",
      "  \"of iterations.\", ConvergenceWarning)\n",
      "e:\\python3.7.1\\lib\\site-packages\\sklearn\\linear_model\\logistic.py:758: ConvergenceWarning: lbfgs failed to converge. Increase the number of iterations.\n",
      "  \"of iterations.\", ConvergenceWarning)\n",
      "e:\\python3.7.1\\lib\\site-packages\\sklearn\\linear_model\\logistic.py:758: ConvergenceWarning: lbfgs failed to converge. Increase the number of iterations.\n",
      "  \"of iterations.\", ConvergenceWarning)\n"
     ]
    },
    {
     "data": {
      "image/png": "[encoded data removed]",
      "text/plain": [
       "<Figure size 432x288 with 1 Axes>"
      ]
     },
     "metadata": {
      "needs_background": "light"
     },
     "output_type": "display_data"
    }
   ],
   "source": [
    "X_train, X_test, y_train, y_test = train_test_split(X, y, test_size=0.25, random_state=42)\n",
    "x_plot=[]\n",
    "y_plot=[]\n",
    "for step in range(1, 30):\n",
    "    logistic_regression=LogisticRegression(C=step/100., solver='sag', multi_class='multinomial')\n",
    "    logistic_regression.fit(X_train, y_train)\n",
    "    pred=logistic_regression.predict(X_test)\n",
    "    acc=accuracy_score(y_test, pred)\n",
    "    x_plot.append(step)\n",
    "    y_plot.append(acc)\n",
    "\n",
    "draw_acc(x_plot=x_plot,y_plot=y_plot)"
   ]
  },
  {
   "cell_type": "markdown",
   "metadata": {},
   "source": [
    "# C=0.19 ensemble"
   ]
  },
  {
   "cell_type": "code",
   "execution_count": null,
   "metadata": {
    "code_folding": []
   },
   "outputs": [
    {
     "name": "stderr",
     "output_type": "stream",
     "text": [
      "e:\\python3.7.1\\lib\\site-packages\\sklearn\\linear_model\\sag.py:334: ConvergenceWarning: The max_iter was reached which means the coef_ did not converge\n",
      "  \"the coef_ did not converge\", ConvergenceWarning)\n",
      "e:\\python3.7.1\\lib\\site-packages\\sklearn\\linear_model\\sag.py:334: ConvergenceWarning: The max_iter was reached which means the coef_ did not converge\n",
      "  \"the coef_ did not converge\", ConvergenceWarning)\n",
      "e:\\python3.7.1\\lib\\site-packages\\sklearn\\linear_model\\sag.py:334: ConvergenceWarning: The max_iter was reached which means the coef_ did not converge\n",
      "  \"the coef_ did not converge\", ConvergenceWarning)\n",
      "e:\\python3.7.1\\lib\\site-packages\\sklearn\\linear_model\\sag.py:334: ConvergenceWarning: The max_iter was reached which means the coef_ did not converge\n",
      "  \"the coef_ did not converge\", ConvergenceWarning)\n",
      "e:\\python3.7.1\\lib\\site-packages\\sklearn\\linear_model\\sag.py:334: ConvergenceWarning: The max_iter was reached which means the coef_ did not converge\n",
      "  \"the coef_ did not converge\", ConvergenceWarning)\n",
      "e:\\python3.7.1\\lib\\site-packages\\sklearn\\linear_model\\sag.py:334: ConvergenceWarning: The max_iter was reached which means the coef_ did not converge\n",
      "  \"the coef_ did not converge\", ConvergenceWarning)\n",
      "e:\\python3.7.1\\lib\\site-packages\\sklearn\\linear_model\\sag.py:334: ConvergenceWarning: The max_iter was reached which means the coef_ did not converge\n",
      "  \"the coef_ did not converge\", ConvergenceWarning)\n",
      "e:\\python3.7.1\\lib\\site-packages\\sklearn\\linear_model\\sag.py:334: ConvergenceWarning: The max_iter was reached which means the coef_ did not converge\n",
      "  \"the coef_ did not converge\", ConvergenceWarning)\n",
      "e:\\python3.7.1\\lib\\site-packages\\sklearn\\linear_model\\sag.py:334: ConvergenceWarning: The max_iter was reached which means the coef_ did not converge\n",
      "  \"the coef_ did not converge\", ConvergenceWarning)\n"
     ]
    }
   ],
   "source": [
    "model=[]\n",
    "res=[]\n",
    "for i in range(0, 15):\n",
    "    X_train, X_test, y_train, y_test = train_test_split(X, y, test_size=0.25, random_state=i)\n",
    "    logistic_regression=LogisticRegression(C=0.19, solver='sag', multi_class='multinomial')\n",
    "    logistic_regression.fit(X_train, y_train)\n",
    "    pred=logistic_regression.predict(X_test)\n",
    "    acc=accuracy_score(y_test, pred)\n",
    "    model.append(logistic_regression)\n",
    "    res.append(acc)\n",
    "\n",
    "avg_acc=sum(res)/15.\n",
    "print ('final result : %f ' %avg_acc)"
   ]
  },
  {
   "cell_type": "code",
   "execution_count": 16,
   "metadata": {},
   "outputs": [
    {
     "name": "stdout",
     "output_type": "stream",
     "text": [
      "Confusion matrix, without normalization\n",
      "[[6781 2410]\n",
      " [2673 6410]]\n"
     ]
    },
    {
     "data": {
      "image/png": "[encoded data removed]",
      "text/plain": [
       "<Figure size 432x288 with 2 Axes>"
      ]
     },
     "metadata": {
      "needs_background": "light"
     },
     "output_type": "display_data"
    }
   ],
   "source": [
    "\n",
    "# Evaluate the confusion matrix\n",
    "int_to_class = {0: \"yes\", 1: \"no\"}\n",
    "cnf_matrix = confusion_matrix([int_to_class[c] for c in y_test], [int_to_class[c] for c in pred])\n",
    "\n",
    "# Plot the confusion matrix\n",
    "plt.figure()\n",
    "plot_confusion_matrix(cnf_matrix, classes=class_names,\n",
    "                      title='Confusion matrix, with normalization')\n",
    "plt.show()"
   ]
  },
  {
   "cell_type": "markdown",
   "metadata": {},
   "source": [
    "# random forest\n"
   ]
  },
  {
   "cell_type": "code",
   "execution_count": 18,
   "metadata": {},
   "outputs": [
    {
     "data": {
      "image/png": "[encoded data removed]",
      "text/plain": [
       "<Figure size 432x288 with 1 Axes>"
      ]
     },
     "metadata": {
      "needs_background": "light"
     },
     "output_type": "display_data"
    }
   ],
   "source": [
    "X_train, X_test, y_train, y_test = train_test_split(X, y, test_size=0.25, random_state=42)\n",
    "x_plot=[]\n",
    "y_plot=[]\n",
    "for step in range(1, 50):\n",
    "    rf_model=RandomForestClassifier(n_estimators=step)\n",
    "    rf_model.fit(X_train, y_train)\n",
    "    pred=rf_model.predict(X_test)\n",
    "    acc=accuracy_score(y_test, pred)\n",
    "    x_plot.append(step)\n",
    "    y_plot.append(acc)\n",
    "\n",
    "draw_acc(x_plot=x_plot,y_plot=y_plot)"
   ]
  },
  {
   "cell_type": "markdown",
   "metadata": {},
   "source": [
    "#### n_estimators=49\n"
   ]
  },
  {
   "cell_type": "code",
   "execution_count": 19,
   "metadata": {},
   "outputs": [
    {
     "name": "stdout",
     "output_type": "stream",
     "text": [
      "final result : 0.933979 \n"
     ]
    }
   ],
   "source": [
    "model=[]\n",
    "res=[]\n",
    "for step in range(0, 15):\n",
    "    X_train, X_test, y_train, y_test = train_test_split(X, y, test_size=0.25, random_state=step) #random select\n",
    "    rf_model=RandomForestClassifier(n_estimators=49)\n",
    "    rf_model.fit(X_train, y_train)\n",
    "    pred=rf_model.predict(X_test)\n",
    "    acc=accuracy_score(y_test, pred)\n",
    "    model.append(rf_model)\n",
    "    res.append(acc)\n",
    "avg_acc=sum(res)/15.\n",
    "print ('final result : %f ' %avg_acc)"
   ]
  },
  {
   "cell_type": "code",
   "execution_count": 20,
   "metadata": {},
   "outputs": [
    {
     "name": "stdout",
     "output_type": "stream",
     "text": [
      "Confusion matrix, without normalization\n",
      "[[8728  463]\n",
      " [ 668 8415]]\n"
     ]
    },
    {
     "data": {
      "image/png": "[encoded data removed]",
      "text/plain": [
       "<Figure size 432x288 with 2 Axes>"
      ]
     },
     "metadata": {
      "needs_background": "light"
     },
     "output_type": "display_data"
    }
   ],
   "source": [
    "int_to_class = {0: \"yes\", 1: \"no\"}\n",
    "cnf_matrix = confusion_matrix([int_to_class[c] for c in y_test], [int_to_class[c] for c in pred])\n",
    "\n",
    "# Plot the confusion matrix\n",
    "plt.figure()\n",
    "plot_confusion_matrix(cnf_matrix, classes=class_names,\n",
    "                      title='Confusion matrix, with normalization')\n",
    "plt.show()"
   ]
  },
  {
   "cell_type": "markdown",
   "metadata": {},
   "source": [
    "# KNN"
   ]
  },
  {
   "cell_type": "code",
   "execution_count": 21,
   "metadata": {},
   "outputs": [
    {
     "data": {
      "image/png": "[encoded data removed]",
      "text/plain": [
       "<Figure size 432x288 with 1 Axes>"
      ]
     },
     "metadata": {
      "needs_background": "light"
     },
     "output_type": "display_data"
    }
   ],
   "source": [
    "X_train, X_test, y_train, y_test = train_test_split(X, y, test_size=0.25, random_state=21)\n",
    "x_plot=[]\n",
    "y_plot=[]\n",
    "for step in range(1, 30):\n",
    "    knn_model = KNeighborsClassifier(n_neighbors=step)\n",
    "    knn_model.fit(X_train, y_train)\n",
    "    pred=knn_model.predict(X_test)\n",
    "    acc=accuracy_score(y_test, pred)\n",
    "    x_plot.append(step)\n",
    "    y_plot.append(acc)\n",
    "draw_acc(x_plot=x_plot,y_plot=y_plot)\n"
   ]
  },
  {
   "cell_type": "code",
   "execution_count": 22,
   "metadata": {},
   "outputs": [
    {
     "name": "stdout",
     "output_type": "stream",
     "text": [
      "final result : 0.857025 \n"
     ]
    }
   ],
   "source": [
    "model=[]\n",
    "res=[]\n",
    "for i in range(0, 15):\n",
    "    X_train, X_test, y_train, y_test = train_test_split(X, y, test_size=0.25, random_state=i)\n",
    "    knn_model = KNeighborsClassifier(n_neighbors=1)\n",
    "    knn_model.fit(X_train, y_train)\n",
    "    pred=knn_model.predict(X_test)\n",
    "    acc=accuracy_score(y_test, pred)\n",
    "    model.append(knn_model)\n",
    "    res.append(acc)\n",
    "    \n",
    "\n",
    "avg_acc=sum(res)/15.\n",
    "print ('final result : %f ' %avg_acc)"
   ]
  },
  {
   "cell_type": "code",
   "execution_count": 24,
   "metadata": {},
   "outputs": [
    {
     "name": "stdout",
     "output_type": "stream",
     "text": [
      "Confusion matrix, without normalization\n",
      "[[7441 1750]\n",
      " [ 841 8242]]\n"
     ]
    },
    {
     "data": {
      "image/png": "[encoded data removed]",
      "text/plain": [
       "<Figure size 432x288 with 2 Axes>"
      ]
     },
     "metadata": {
      "needs_background": "light"
     },
     "output_type": "display_data"
    }
   ],
   "source": [
    "# Evaluate the confusion matrix\n",
    "cnf_matrix = confusion_matrix([int_to_class[c] for c in y_test], [int_to_class[c] for c in pred])\n",
    "\n",
    "# Plot the confusion matrix\n",
    "plt.figure()\n",
    "plot_confusion_matrix(cnf_matrix, classes=class_names,\n",
    "                      title='Confusion matrix, without normalization')\n",
    "plt.show()"
   ]
  }
 ],
 "metadata": {
  "kernelspec": {
   "display_name": "Python 3",
   "language": "python",
   "name": "python3"
  },
  "language_info": {
   "codemirror_mode": {
    "name": "ipython",
    "version": 3
   },
   "file_extension": ".py",
   "mimetype": "text/x-python",
   "name": "python",
   "nbconvert_exporter": "python",
   "pygments_lexer": "ipython3",
   "version": "3.7.1"
  }
 },
 "nbformat": 4,
 "nbformat_minor": 2
}
